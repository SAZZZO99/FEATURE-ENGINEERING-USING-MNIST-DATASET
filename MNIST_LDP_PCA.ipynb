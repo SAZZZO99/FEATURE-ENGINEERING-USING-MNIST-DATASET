{
  "nbformat": 4,
  "nbformat_minor": 0,
  "metadata": {
    "colab": {
      "name": "MNIST-LDP-PCA.ipynb",
      "provenance": [],
      "authorship_tag": "ABX9TyO0j7u98c9vua95H93dfMLx"
    },
    "kernelspec": {
      "name": "python3",
      "display_name": "Python 3"
    }
  },
  "cells": [
    {
      "cell_type": "code",
      "metadata": {
        "id": "lRL0UDbNjUxW",
        "colab_type": "code",
        "colab": {}
      },
      "source": [
        "import numpy as np\n",
        "import matplotlib.pyplot as plt\n",
        "import scipy\n",
        "from scipy import ndimage"
      ],
      "execution_count": 32,
      "outputs": []
    },
    {
      "cell_type": "code",
      "metadata": {
        "id": "U0EdRioMnmnt",
        "colab_type": "code",
        "colab": {}
      },
      "source": [
        "from sklearn.datasets import fetch_openml\n",
        "mnist = fetch_openml('mnist_784')\n",
        "x = mnist.data\n",
        "y = mnist.target"
      ],
      "execution_count": 33,
      "outputs": []
    },
    {
      "cell_type": "code",
      "metadata": {
        "id": "t5o4tdMOnmsr",
        "colab_type": "code",
        "colab": {}
      },
      "source": [
        "e_k = np.zeros_like(x)\n",
        "s_k = np.zeros_like(x)\n",
        "n_k = np.zeros_like(x)\n",
        "nw_k = np.zeros_like(x)\n",
        "ne_k = np.zeros_like(x)\n",
        "sw_k = np.zeros_like(x)\n",
        "se_k = np.zeros_like(x)\n",
        "w_k = np.zeros_like(x)"
      ],
      "execution_count": 34,
      "outputs": []
    },
    {
      "cell_type": "code",
      "metadata": {
        "id": "UuSQrjVzoGKk",
        "colab_type": "code",
        "colab": {}
      },
      "source": [
        "ka= np.array([[-3,-3,-3],[-3,0,-3],[5,5,5]])\n",
        "na= np.array([[-3,-3,5],[-3,0,5],[-3,-3,5]])\n",
        "wa= np.array([[5,5,5],[-3,0,-3],[-3,-3,-3]])\n",
        "sa= np.array([[5,-3,-3],[5,0,-3],[5,-3,-3]])\n",
        "nea= np.array([[-3,-3,-3],[-3,0,5],[-3,5,5]])\n",
        "nwa= np.array([[-3,5,5],[-3,0,5],[-3,-3,-3]])\n",
        "sea= np.array([[-3,-3,-3],[5,0,-3],[5,5,-3]])\n",
        "swa= np.array([[5,5,-3],[5,0,-3],[-3,-3,-3]])"
      ],
      "execution_count": 35,
      "outputs": []
    },
    {
      "cell_type": "code",
      "metadata": {
        "id": "ZR5GrhC7nmxt",
        "colab_type": "code",
        "colab": {}
      },
      "source": [
        "for i in range(70000):\n",
        "  e_k[i]=ndimage.convolve(x[i].reshape((28, 28)),ka,mode='nearest',cval=0.0).reshape(784)\n",
        "  s_k[i]=ndimage.convolve(x[i].reshape((28, 28)),sa,mode='nearest',cval=0.0).reshape(784)\n",
        "  n_k[i]=ndimage.convolve(x[i].reshape((28, 28)),na,mode='nearest',cval=0.0).reshape(784)\n",
        "  w_k[i]=ndimage.convolve(x[i].reshape((28, 28)),wa,mode='nearest',cval=0.0).reshape(784)\n",
        "  nw_k[i]=ndimage.convolve(x[i].reshape((28, 28)),nwa,mode='nearest',cval=0.0).reshape(784)\n",
        "  ne_k[i]=ndimage.convolve(x[i].reshape((28, 28)),nea,mode='nearest',cval=0.0).reshape(784)\n",
        "  sw_k[i]=ndimage.convolve(x[i].reshape((28, 28)),swa,mode='nearest',cval=0.0).reshape(784)\n",
        "  se_k[i]=ndimage.convolve(x[i].reshape((28, 28)),sea,mode='nearest',cval=0.0).reshape(784)\n",
        " \n"
      ],
      "execution_count": 36,
      "outputs": []
    },
    {
      "cell_type": "code",
      "metadata": {
        "id": "itsI0JAonm1s",
        "colab_type": "code",
        "colab": {}
      },
      "source": [
        "ldp_mat=np.zeros_like(x)"
      ],
      "execution_count": 37,
      "outputs": []
    },
    {
      "cell_type": "code",
      "metadata": {
        "id": "DnZKkeVJ7udG",
        "colab_type": "code",
        "colab": {}
      },
      "source": [
        "ldp_hist=np.zeros((70000,56))"
      ],
      "execution_count": 38,
      "outputs": []
    },
    {
      "cell_type": "code",
      "metadata": {
        "id": "A49A1BhOnm6i",
        "colab_type": "code",
        "colab": {}
      },
      "source": [
        "for i in range(70000):\n",
        "  e=e_k[i].reshape((28,28))\n",
        "  s=s_k[i].reshape((28,28))\n",
        "  n=n_k[i].reshape((28,28))\n",
        "  w=w_k[i].reshape((28,28))\n",
        "  nw=nw_k[i].reshape((28,28))\n",
        "  ne=ne_k[i].reshape((28,28))\n",
        "  sw=sw_k[i].reshape((28,28))\n",
        "  se=se_k[i].reshape((28,28))\n",
        "  ldp=ldp_mat[i].reshape((28,28))\n",
        "\n",
        "  for k in range(28):\n",
        "    for j in range(28):\n",
        "      lst=[se[k][j],s[k][j],sw[k][j],w[k][j],nw[k][j],n[k][j],ne[k][j],e[k][j]]\n",
        "      l=[abs(h) for h in lst]\n",
        "      marr=np.argsort(l)\n",
        "      marr1=marr[::-1]\n",
        "      binary=np.zeros(8,dtype=\"uint8\")\n",
        "      binary[marr1[0]]=1\n",
        "      binary[marr1[1]]=1\n",
        "      binary[marr1[2]]=1\n",
        "      d_no=binary[0]*2**7+binary[1]*2**6+binary[2]*2**5+binary[3]*2**4+binary[4]*2**3+binary[5]*2**2+binary[6]*2**1+binary[7]*2**0\n",
        "      ldp[k][j]=d_no\n",
        "  \n",
        "  ldp_mat[i]=ldp.reshape(784)\n",
        "\n"
      ],
      "execution_count": 39,
      "outputs": []
    },
    {
      "cell_type": "code",
      "metadata": {
        "id": "QwCrUvkoIIak",
        "colab_type": "code",
        "colab": {}
      },
      "source": [
        "for i in range (70000):\n",
        "  hist=ldp_mat[i].reshape((28,28))\n",
        "  arr=np.zeros(56)\n",
        "  for c in range(1,57):\n",
        "    cnt=0\n",
        "    for k in range(28):\n",
        "      for j in range(28):\n",
        "        if hist[k][j]==c:\n",
        "          cnt+=1\n",
        "    arr[c-1]=cnt\n",
        "  ldp_hist[i]=arr"
      ],
      "execution_count": 40,
      "outputs": []
    },
    {
      "cell_type": "code",
      "metadata": {
        "id": "uKn54LAZ-d4O",
        "colab_type": "code",
        "colab": {}
      },
      "source": [
        "\n",
        "from sklearn.model_selection import train_test_split\n",
        "train_img, test_img, train_lbl, test_lbl = train_test_split( ldp_mat, mnist.target, test_size=1/7.0, random_state=0)"
      ],
      "execution_count": 56,
      "outputs": []
    },
    {
      "cell_type": "code",
      "metadata": {
        "id": "xB6F8beY-i01",
        "colab_type": "code",
        "colab": {}
      },
      "source": [
        "\n",
        "from sklearn.preprocessing import StandardScaler\n",
        "scaler = StandardScaler()"
      ],
      "execution_count": 57,
      "outputs": []
    },
    {
      "cell_type": "code",
      "metadata": {
        "id": "RC1RWunI-mNb",
        "colab_type": "code",
        "colab": {
          "base_uri": "https://localhost:8080/",
          "height": 35
        },
        "outputId": "b8204e4f-b375-4c05-c3d1-cd757b15aa1e"
      },
      "source": [
        "scaler.fit(train_img)"
      ],
      "execution_count": 58,
      "outputs": [
        {
          "output_type": "execute_result",
          "data": {
            "text/plain": [
              "StandardScaler(copy=True, with_mean=True, with_std=True)"
            ]
          },
          "metadata": {
            "tags": []
          },
          "execution_count": 58
        }
      ]
    },
    {
      "cell_type": "code",
      "metadata": {
        "id": "x4LdsIWq-svi",
        "colab_type": "code",
        "colab": {}
      },
      "source": [
        "train_img = scaler.transform(train_img)\n",
        "test_img = scaler.transform(test_img)"
      ],
      "execution_count": 59,
      "outputs": []
    },
    {
      "cell_type": "code",
      "metadata": {
        "id": "y0Xp1VbRajya",
        "colab_type": "code",
        "colab": {}
      },
      "source": [
        "from sklearn.decomposition import PCA"
      ],
      "execution_count": 60,
      "outputs": []
    },
    {
      "cell_type": "code",
      "metadata": {
        "id": "C1jC6Vlcao93",
        "colab_type": "code",
        "colab": {}
      },
      "source": [
        "pca = PCA(.95)"
      ],
      "execution_count": 61,
      "outputs": []
    },
    {
      "cell_type": "code",
      "metadata": {
        "id": "9ocMXT3Raof6",
        "colab_type": "code",
        "colab": {
          "base_uri": "https://localhost:8080/",
          "height": 53
        },
        "outputId": "497c1ed8-0a8a-4b94-ed9a-ec220bfd3690"
      },
      "source": [
        "pca.fit(train_img)"
      ],
      "execution_count": 62,
      "outputs": [
        {
          "output_type": "execute_result",
          "data": {
            "text/plain": [
              "PCA(copy=True, iterated_power='auto', n_components=0.95, random_state=None,\n",
              "    svd_solver='auto', tol=0.0, whiten=False)"
            ]
          },
          "metadata": {
            "tags": []
          },
          "execution_count": 62
        }
      ]
    },
    {
      "cell_type": "code",
      "metadata": {
        "id": "6QymbbwyaoMK",
        "colab_type": "code",
        "colab": {}
      },
      "source": [
        "train_img = pca.transform(train_img)\n",
        "test_img = pca.transform(test_img)"
      ],
      "execution_count": 63,
      "outputs": []
    },
    {
      "cell_type": "code",
      "metadata": {
        "id": "SgTJo4-s-sy9",
        "colab_type": "code",
        "colab": {}
      },
      "source": [
        "from sklearn.svm import SVC"
      ],
      "execution_count": 64,
      "outputs": []
    },
    {
      "cell_type": "code",
      "metadata": {
        "id": "isaawVNj-s6D",
        "colab_type": "code",
        "colab": {}
      },
      "source": [
        "svc_model=SVC()"
      ],
      "execution_count": 65,
      "outputs": []
    },
    {
      "cell_type": "code",
      "metadata": {
        "id": "SMQUHb3O-s49",
        "colab_type": "code",
        "colab": {}
      },
      "source": [
        "import time"
      ],
      "execution_count": 66,
      "outputs": []
    },
    {
      "cell_type": "code",
      "metadata": {
        "id": "zUnUsLJ1-4l2",
        "colab_type": "code",
        "colab": {
          "base_uri": "https://localhost:8080/",
          "height": 35
        },
        "outputId": "6cf38b7d-f25c-463d-ecd3-ab37e4b4ae06"
      },
      "source": [
        "f=time.time()\n",
        "svc_model.fit(train_img, train_lbl)\n",
        "q=time.time()\n",
        "print(q-f)"
      ],
      "execution_count": 67,
      "outputs": [
        {
          "output_type": "stream",
          "text": [
            "944.6520473957062\n"
          ],
          "name": "stdout"
        }
      ]
    },
    {
      "cell_type": "code",
      "metadata": {
        "id": "Zf5Dh6LG-44L",
        "colab_type": "code",
        "colab": {}
      },
      "source": [
        "y_predict=svc_model.predict(test_img)"
      ],
      "execution_count": 68,
      "outputs": []
    },
    {
      "cell_type": "code",
      "metadata": {
        "id": "hsHW_ScT-41C",
        "colab_type": "code",
        "colab": {}
      },
      "source": [
        "from sklearn import metrics"
      ],
      "execution_count": 69,
      "outputs": []
    },
    {
      "cell_type": "code",
      "metadata": {
        "id": "FJe2O6d8-4y7",
        "colab_type": "code",
        "colab": {}
      },
      "source": [
        "d=svc_model.score(test_img,test_lbl)"
      ],
      "execution_count": 70,
      "outputs": []
    },
    {
      "cell_type": "code",
      "metadata": {
        "id": "Sja8p8zk-4w1",
        "colab_type": "code",
        "colab": {
          "base_uri": "https://localhost:8080/",
          "height": 35
        },
        "outputId": "a30bd60f-ee4d-4180-e254-c79402059700"
      },
      "source": [
        "print(d*100)"
      ],
      "execution_count": 71,
      "outputs": [
        {
          "output_type": "stream",
          "text": [
            "94.01\n"
          ],
          "name": "stdout"
        }
      ]
    }
  ]
}