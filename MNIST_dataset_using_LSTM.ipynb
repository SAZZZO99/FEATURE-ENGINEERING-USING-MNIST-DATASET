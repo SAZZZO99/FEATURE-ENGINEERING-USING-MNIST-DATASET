{
  "nbformat": 4,
  "nbformat_minor": 0,
  "metadata": {
    "colab": {
      "name": "MNIST dataset using LSTM.ipynb",
      "provenance": [],
      "authorship_tag": "ABX9TyMHTeKiSGYzuPfptio7eQKF"
    },
    "kernelspec": {
      "name": "python3",
      "display_name": "Python 3"
    },
    "accelerator": "GPU"
  },
  "cells": [
    {
      "cell_type": "code",
      "metadata": {
        "id": "km769HGaicyA",
        "colab_type": "code",
        "colab": {}
      },
      "source": [
        "import tensorflow as  tf\n",
        "from tensorflow.keras.models import Sequential\n",
        "from tensorflow.keras.layers import Dense, Dropout, LSTM"
      ],
      "execution_count": 13,
      "outputs": []
    },
    {
      "cell_type": "code",
      "metadata": {
        "id": "5gxZKkPPiwiq",
        "colab_type": "code",
        "colab": {}
      },
      "source": [
        "mnist = tf.keras.datasets.mnist\n",
        "(x_train, y_train), (x_test, y_test) = mnist.load_data()"
      ],
      "execution_count": 14,
      "outputs": []
    },
    {
      "cell_type": "code",
      "metadata": {
        "id": "8acjwWDfiwln",
        "colab_type": "code",
        "colab": {}
      },
      "source": [
        "x_train = x_train / 255.0\n",
        "x_test = x_test / 255.0"
      ],
      "execution_count": 15,
      "outputs": []
    },
    {
      "cell_type": "code",
      "metadata": {
        "id": "nY66fIFdiwoU",
        "colab_type": "code",
        "colab": {
          "base_uri": "https://localhost:8080/",
          "height": 72
        },
        "outputId": "dac35d6e-e7c1-45cd-a2ad-3b10728fc28e"
      },
      "source": [
        "model = Sequential()\n",
        "model.add(LSTM(128, input_shape=(x_train.shape[1:]), activation='relu', return_sequences=True))\n",
        "model.add(Dropout(0.2))\n",
        "\n",
        "model.add(LSTM(128, activation='relu'))\n",
        "model.add(Dropout(0.2))\n",
        "\n",
        "model.add(Dense(64, activation='relu'))\n",
        "model.add(Dropout(0.3))\n",
        "\n",
        "model.add(Dense(10, activation='softmax'))"
      ],
      "execution_count": 16,
      "outputs": [
        {
          "output_type": "stream",
          "text": [
            "WARNING:tensorflow:Layer lstm_2 will not use cuDNN kernel since it doesn't meet the cuDNN kernel criteria. It will use generic GPU kernel as fallback when running on GPU\n",
            "WARNING:tensorflow:Layer lstm_3 will not use cuDNN kernel since it doesn't meet the cuDNN kernel criteria. It will use generic GPU kernel as fallback when running on GPU\n"
          ],
          "name": "stdout"
        }
      ]
    },
    {
      "cell_type": "code",
      "metadata": {
        "id": "ovO5hXGgH3mm",
        "colab_type": "code",
        "colab": {
          "base_uri": "https://localhost:8080/",
          "height": 399
        },
        "outputId": "19d41f5d-78a4-46b5-95e9-f32d7b17064f"
      },
      "source": [
        "model.summary()"
      ],
      "execution_count": 17,
      "outputs": [
        {
          "output_type": "stream",
          "text": [
            "Model: \"sequential_1\"\n",
            "_________________________________________________________________\n",
            "Layer (type)                 Output Shape              Param #   \n",
            "=================================================================\n",
            "lstm_2 (LSTM)                (None, 28, 128)           80384     \n",
            "_________________________________________________________________\n",
            "dropout_3 (Dropout)          (None, 28, 128)           0         \n",
            "_________________________________________________________________\n",
            "lstm_3 (LSTM)                (None, 128)               131584    \n",
            "_________________________________________________________________\n",
            "dropout_4 (Dropout)          (None, 128)               0         \n",
            "_________________________________________________________________\n",
            "dense_2 (Dense)              (None, 64)                8256      \n",
            "_________________________________________________________________\n",
            "dropout_5 (Dropout)          (None, 64)                0         \n",
            "_________________________________________________________________\n",
            "dense_3 (Dense)              (None, 10)                650       \n",
            "=================================================================\n",
            "Total params: 220,874\n",
            "Trainable params: 220,874\n",
            "Non-trainable params: 0\n",
            "_________________________________________________________________\n"
          ],
          "name": "stdout"
        }
      ]
    },
    {
      "cell_type": "code",
      "metadata": {
        "id": "Sp4LqJ16iwtw",
        "colab_type": "code",
        "colab": {}
      },
      "source": [
        "opt = tf.keras.optimizers.Adam(lr=1e-3, decay=1e-5)"
      ],
      "execution_count": 18,
      "outputs": []
    },
    {
      "cell_type": "code",
      "metadata": {
        "id": "JdVWNZ03iwwX",
        "colab_type": "code",
        "colab": {}
      },
      "source": [
        "model.compile(loss='sparse_categorical_crossentropy', optimizer=opt,\n",
        "             metrics=['accuracy'])"
      ],
      "execution_count": 19,
      "outputs": []
    },
    {
      "cell_type": "code",
      "metadata": {
        "id": "pz8_kGIgiwzi",
        "colab_type": "code",
        "colab": {
          "base_uri": "https://localhost:8080/",
          "height": 384
        },
        "outputId": "3eb3a897-f47a-463f-e9e4-f636e9c745a3"
      },
      "source": [
        "history=model.fit(x_train, y_train, epochs=10, validation_data=(x_test, y_test))\n"
      ],
      "execution_count": 20,
      "outputs": [
        {
          "output_type": "stream",
          "text": [
            "Epoch 1/10\n",
            "1875/1875 [==============================] - 64s 34ms/step - loss: 0.6253 - accuracy: 0.7973 - val_loss: 0.1491 - val_accuracy: 0.9551\n",
            "Epoch 2/10\n",
            "1875/1875 [==============================] - 64s 34ms/step - loss: 0.1513 - accuracy: 0.9590 - val_loss: 0.1078 - val_accuracy: 0.9710\n",
            "Epoch 3/10\n",
            "1875/1875 [==============================] - 63s 33ms/step - loss: 0.1057 - accuracy: 0.9711 - val_loss: 0.1018 - val_accuracy: 0.9734\n",
            "Epoch 4/10\n",
            "1875/1875 [==============================] - 65s 35ms/step - loss: 0.0820 - accuracy: 0.9776 - val_loss: 0.0639 - val_accuracy: 0.9820\n",
            "Epoch 5/10\n",
            "1875/1875 [==============================] - 63s 34ms/step - loss: 0.0687 - accuracy: 0.9814 - val_loss: 0.0513 - val_accuracy: 0.9845\n",
            "Epoch 6/10\n",
            "1875/1875 [==============================] - 64s 34ms/step - loss: 0.0546 - accuracy: 0.9853 - val_loss: 0.0595 - val_accuracy: 0.9860\n",
            "Epoch 7/10\n",
            "1875/1875 [==============================] - 65s 35ms/step - loss: 0.0580 - accuracy: 0.9847 - val_loss: 0.0499 - val_accuracy: 0.9860\n",
            "Epoch 8/10\n",
            "1875/1875 [==============================] - 61s 32ms/step - loss: 0.0435 - accuracy: 0.9878 - val_loss: 0.0560 - val_accuracy: 0.9813\n",
            "Epoch 9/10\n",
            "1875/1875 [==============================] - 61s 32ms/step - loss: 0.0386 - accuracy: 0.9894 - val_loss: 0.0509 - val_accuracy: 0.9864\n",
            "Epoch 10/10\n",
            "1875/1875 [==============================] - 62s 33ms/step - loss: 0.0359 - accuracy: 0.9899 - val_loss: 0.0466 - val_accuracy: 0.9870\n"
          ],
          "name": "stdout"
        }
      ]
    },
    {
      "cell_type": "code",
      "metadata": {
        "id": "XVCRX1u9INN2",
        "colab_type": "code",
        "colab": {
          "base_uri": "https://localhost:8080/",
          "height": 34
        },
        "outputId": "60afefdf-5875-4232-a328-f38b7da74485"
      },
      "source": [
        "final_loss, final_acc = model.evaluate(x_test, y_test, verbose=0)\n",
        "print(\"Final loss: {0:.4f}, final accuracy: {1:.4}\".format(final_loss, final_acc))"
      ],
      "execution_count": 21,
      "outputs": [
        {
          "output_type": "stream",
          "text": [
            "Final loss: 0.0466, final accuracy: 0.987\n"
          ],
          "name": "stdout"
        }
      ]
    },
    {
      "cell_type": "code",
      "metadata": {
        "id": "H450cSf6GJ-u",
        "colab_type": "code",
        "colab": {}
      },
      "source": [
        "import matplotlib.pyplot as plt\n"
      ],
      "execution_count": 22,
      "outputs": []
    },
    {
      "cell_type": "code",
      "metadata": {
        "id": "KtwLeufKGKJ3",
        "colab_type": "code",
        "colab": {
          "base_uri": "https://localhost:8080/",
          "height": 513
        },
        "outputId": "352127cb-5817-4915-bb87-d6ddc3782663"
      },
      "source": [
        "plt.plot(history.history['loss'], color='b')\n",
        "plt.plot(history.history['val_loss'], color='r')\n",
        "plt.show()\n",
        "plt.plot(history.history['accuracy'], color='b')\n",
        "plt.plot(history.history['val_accuracy'], color='r')\n",
        "plt.show()\n"
      ],
      "execution_count": 23,
      "outputs": [
        {
          "output_type": "display_data",
          "data": {
            "image/png": "[encoded data removed]",
            "text/plain": [
              "<Figure size 432x288 with 1 Axes>"
            ]
          },
          "metadata": {
            "tags": [],
            "needs_background": "light"
          }
        },
        {
          "output_type": "display_data",
          "data": {
            "image/png": "[encoded data removed]",
            "text/plain": [
              "<Figure size 432x288 with 1 Axes>"
            ]
          },
          "metadata": {
            "tags": [],
            "needs_background": "light"
          }
        }
      ]
    }
  ]
}