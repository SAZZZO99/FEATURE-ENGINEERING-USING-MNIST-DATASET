{
  "nbformat": 4,
  "nbformat_minor": 0,
  "metadata": {
    "colab": {
      "name": "ONLY-SOBEL.ipynb",
      "provenance": [],
      "authorship_tag": "ABX9TyPtqa1Xh7LYQYfN7j88C6PQ"
    },
    "kernelspec": {
      "name": "python3",
      "display_name": "Python 3"
    }
  },
  "cells": [
    {
      "cell_type": "code",
      "metadata": {
        "id": "JNtYCVbDJXIf",
        "colab_type": "code",
        "colab": {}
      },
      "source": [
        "import numpy as np\n",
        "import matplotlib.pyplot as plt\n",
        "import scipy\n",
        "from scipy import ndimage"
      ],
      "execution_count": 1,
      "outputs": []
    },
    {
      "cell_type": "code",
      "metadata": {
        "id": "vvMb4xaNJ4Rd",
        "colab_type": "code",
        "colab": {}
      },
      "source": [
        "from sklearn.datasets import fetch_openml\n",
        "mnist = fetch_openml('mnist_784')\n",
        "x = mnist.data\n",
        "y = mnist.target"
      ],
      "execution_count": 2,
      "outputs": []
    },
    {
      "cell_type": "code",
      "metadata": {
        "id": "4hQzlw6JJ73H",
        "colab_type": "code",
        "colab": {}
      },
      "source": [
        "x_s = np.zeros_like(x)"
      ],
      "execution_count": 3,
      "outputs": []
    },
    {
      "cell_type": "code",
      "metadata": {
        "id": "xLpNvOA0J78G",
        "colab_type": "code",
        "colab": {}
      },
      "source": [
        "for i in range(70000):\n",
        "  x_s[i]=scipy.ndimage.sobel(x[i])"
      ],
      "execution_count": 4,
      "outputs": []
    },
    {
      "cell_type": "code",
      "metadata": {
        "id": "FQP5b00NJ8AF",
        "colab_type": "code",
        "colab": {}
      },
      "source": [
        "from sklearn.model_selection import train_test_split\n",
        "train_img, test_img, train_lbl, test_lbl = train_test_split( x_s, mnist.target, test_size=1/7.0, random_state=0)"
      ],
      "execution_count": 5,
      "outputs": []
    },
    {
      "cell_type": "code",
      "metadata": {
        "id": "XEyc5fACJ8Dq",
        "colab_type": "code",
        "colab": {}
      },
      "source": [
        "from sklearn.preprocessing import StandardScaler\n",
        "scaler = StandardScaler()"
      ],
      "execution_count": 6,
      "outputs": []
    },
    {
      "cell_type": "code",
      "metadata": {
        "id": "r6qWgnxQJ8HI",
        "colab_type": "code",
        "colab": {
          "base_uri": "https://localhost:8080/",
          "height": 35
        },
        "outputId": "015d18e7-dda7-481c-b130-7f9b9b6c7fe9"
      },
      "source": [
        "scaler.fit(train_img)"
      ],
      "execution_count": 7,
      "outputs": [
        {
          "output_type": "execute_result",
          "data": {
            "text/plain": [
              "StandardScaler(copy=True, with_mean=True, with_std=True)"
            ]
          },
          "metadata": {
            "tags": []
          },
          "execution_count": 7
        }
      ]
    },
    {
      "cell_type": "code",
      "metadata": {
        "id": "DVZej5ZCJ8Ki",
        "colab_type": "code",
        "colab": {}
      },
      "source": [
        "train_img = scaler.transform(train_img)\n",
        "test_img = scaler.transform(test_img)"
      ],
      "execution_count": 8,
      "outputs": []
    },
    {
      "cell_type": "code",
      "metadata": {
        "id": "Bh_jN3KEJ8N3",
        "colab_type": "code",
        "colab": {}
      },
      "source": [
        "from sklearn.svm import SVC"
      ],
      "execution_count": 9,
      "outputs": []
    },
    {
      "cell_type": "code",
      "metadata": {
        "id": "huRGF9UgJ8Q4",
        "colab_type": "code",
        "colab": {}
      },
      "source": [
        "svc_model=SVC()"
      ],
      "execution_count": 10,
      "outputs": []
    },
    {
      "cell_type": "code",
      "metadata": {
        "id": "ua58K0vrJ8Wd",
        "colab_type": "code",
        "colab": {
          "base_uri": "https://localhost:8080/",
          "height": 89
        },
        "outputId": "ebafb08e-45e6-44be-ea89-2c83481abeed"
      },
      "source": [
        "svc_model.fit(train_img, train_lbl)"
      ],
      "execution_count": 11,
      "outputs": [
        {
          "output_type": "execute_result",
          "data": {
            "text/plain": [
              "SVC(C=1.0, break_ties=False, cache_size=200, class_weight=None, coef0=0.0,\n",
              "    decision_function_shape='ovr', degree=3, gamma='scale', kernel='rbf',\n",
              "    max_iter=-1, probability=False, random_state=None, shrinking=True,\n",
              "    tol=0.001, verbose=False)"
            ]
          },
          "metadata": {
            "tags": []
          },
          "execution_count": 11
        }
      ]
    },
    {
      "cell_type": "code",
      "metadata": {
        "id": "EpHtvArIJ8Zz",
        "colab_type": "code",
        "colab": {}
      },
      "source": [
        "y_predict=svc_model.predict(test_img)"
      ],
      "execution_count": 12,
      "outputs": []
    },
    {
      "cell_type": "code",
      "metadata": {
        "id": "KCAHopTjJ8UK",
        "colab_type": "code",
        "colab": {}
      },
      "source": [
        "from sklearn import metrics"
      ],
      "execution_count": 13,
      "outputs": []
    },
    {
      "cell_type": "code",
      "metadata": {
        "id": "dMuEx2GFLHeJ",
        "colab_type": "code",
        "colab": {}
      },
      "source": [
        "d=svc_model.score(test_img,test_lbl)"
      ],
      "execution_count": 14,
      "outputs": []
    },
    {
      "cell_type": "code",
      "metadata": {
        "id": "zmysAuOBLHlO",
        "colab_type": "code",
        "colab": {
          "base_uri": "https://localhost:8080/",
          "height": 35
        },
        "outputId": "45bc4b8c-5135-4733-bb36-d76be26d9031"
      },
      "source": [
        "print(d*100)"
      ],
      "execution_count": 15,
      "outputs": [
        {
          "output_type": "stream",
          "text": [
            "95.85000000000001\n"
          ],
          "name": "stdout"
        }
      ]
    },
    {
      "cell_type": "code",
      "metadata": {
        "id": "cZx5ouWpI5GI",
        "colab_type": "code",
        "colab": {}
      },
      "source": [
        "t=svc_model.score(train_img,train_lbl)"
      ],
      "execution_count": 16,
      "outputs": []
    },
    {
      "cell_type": "code",
      "metadata": {
        "id": "ViLQBTWeI5XL",
        "colab_type": "code",
        "colab": {
          "base_uri": "https://localhost:8080/",
          "height": 35
        },
        "outputId": "d040a802-bc97-41f6-c330-8c6112a787dc"
      },
      "source": [
        "print(t*100)"
      ],
      "execution_count": 17,
      "outputs": [
        {
          "output_type": "stream",
          "text": [
            "98.715\n"
          ],
          "name": "stdout"
        }
      ]
    }
  ]
}