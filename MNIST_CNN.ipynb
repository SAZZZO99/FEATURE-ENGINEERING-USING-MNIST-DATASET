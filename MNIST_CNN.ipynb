{
  "nbformat": 4,
  "nbformat_minor": 0,
  "metadata": {
    "colab": {
      "name": "MNIST - CNN.ipynb",
      "provenance": [],
      "authorship_tag": "ABX9TyNQcnWpMUY2osXtPj+qNTsO"
    },
    "kernelspec": {
      "name": "python3",
      "display_name": "Python 3"
    },
    "accelerator": "GPU"
  },
  "cells": [
    {
      "cell_type": "code",
      "metadata": {
        "id": "B7NclSFi8Go6",
        "colab_type": "code",
        "colab": {
          "base_uri": "https://localhost:8080/",
          "height": 35
        },
        "outputId": "7267c921-e03d-4a5d-d483-3420d0b7b6c9"
      },
      "source": [
        "from keras.datasets import mnist\n",
        "from keras.models import Sequential\n",
        "from keras.layers import Dense\n",
        "from keras.layers import Dropout\n",
        "from keras.layers import Flatten\n",
        "from keras.layers.convolutional import Conv2D\n",
        "from keras.layers.convolutional import MaxPooling2D\n",
        "from keras.utils import np_utils"
      ],
      "execution_count": 1,
      "outputs": [
        {
          "output_type": "stream",
          "text": [
            "Using TensorFlow backend.\n"
          ],
          "name": "stderr"
        }
      ]
    },
    {
      "cell_type": "code",
      "metadata": {
        "id": "846afTEx8Sar",
        "colab_type": "code",
        "colab": {
          "base_uri": "https://localhost:8080/",
          "height": 53
        },
        "outputId": "5b78aebe-6d0a-4529-cefa-99885d71e73a"
      },
      "source": [
        "(X_train, y_train), (X_test, y_test) = mnist.load_data()"
      ],
      "execution_count": 2,
      "outputs": [
        {
          "output_type": "stream",
          "text": [
            "Downloading data from https://s3.amazonaws.com/img-datasets/mnist.npz\n",
            "11493376/11490434 [==============================] - 0s 0us/step\n"
          ],
          "name": "stdout"
        }
      ]
    },
    {
      "cell_type": "code",
      "metadata": {
        "id": "QvPjbTlp8Xju",
        "colab_type": "code",
        "colab": {}
      },
      "source": [
        "X_train = X_train.reshape((X_train.shape[0], 28, 28, 1)).astype('float32')\n",
        "X_test = X_test.reshape((X_test.shape[0], 28, 28, 1)).astype('float32')"
      ],
      "execution_count": 3,
      "outputs": []
    },
    {
      "cell_type": "code",
      "metadata": {
        "id": "Qt4eUSbA8hSO",
        "colab_type": "code",
        "colab": {}
      },
      "source": [
        "X_train = X_train / 255\n",
        "X_test = X_test / 255"
      ],
      "execution_count": 4,
      "outputs": []
    },
    {
      "cell_type": "code",
      "metadata": {
        "id": "awiqugM98k9D",
        "colab_type": "code",
        "colab": {}
      },
      "source": [
        "y_train = np_utils.to_categorical(y_train)\n",
        "y_test = np_utils.to_categorical(y_test)\n",
        "num_classes = y_test.shape[1]"
      ],
      "execution_count": 5,
      "outputs": []
    },
    {
      "cell_type": "code",
      "metadata": {
        "id": "aI9sK07l8o7B",
        "colab_type": "code",
        "colab": {}
      },
      "source": [
        "def larger_model():\n",
        "\t# create model\n",
        "\tmodel = Sequential()\n",
        "\tmodel.add(Conv2D(30, (5, 5), input_shape=(28, 28, 1), activation='relu'))\n",
        "\tmodel.add(MaxPooling2D())\n",
        "\tmodel.add(Conv2D(15, (3, 3), activation='relu'))\n",
        "\tmodel.add(MaxPooling2D())\n",
        "\tmodel.add(Dropout(0.2))\n",
        "\tmodel.add(Flatten())\n",
        "\tmodel.add(Dense(128, activation='relu'))\n",
        "\tmodel.add(Dense(50, activation='relu'))\n",
        "\tmodel.add(Dense(num_classes, activation='softmax'))\n",
        "\t# Compile model\n",
        "\tmodel.compile(loss='categorical_crossentropy', optimizer='adam', metrics=['accuracy'])\n",
        "\treturn model"
      ],
      "execution_count": 6,
      "outputs": []
    },
    {
      "cell_type": "code",
      "metadata": {
        "id": "0DJBKklW8xAj",
        "colab_type": "code",
        "colab": {}
      },
      "source": [
        "model = larger_model()"
      ],
      "execution_count": 7,
      "outputs": []
    },
    {
      "cell_type": "code",
      "metadata": {
        "id": "Ta3yGuOm80dL",
        "colab_type": "code",
        "colab": {
          "base_uri": "https://localhost:8080/",
          "height": 773
        },
        "outputId": "fb1250d7-0195-42f3-8442-9bb3fa5ac3b6"
      },
      "source": [
        "model.fit(X_train, y_train, validation_data=(X_test, y_test), epochs=20, batch_size=200)"
      ],
      "execution_count": 8,
      "outputs": [
        {
          "output_type": "stream",
          "text": [
            "Train on 60000 samples, validate on 10000 samples\n",
            "Epoch 1/20\n",
            "60000/60000 [==============================] - 8s 132us/step - loss: 0.3988 - accuracy: 0.8775 - val_loss: 0.0776 - val_accuracy: 0.9779\n",
            "Epoch 2/20\n",
            "60000/60000 [==============================] - 2s 27us/step - loss: 0.0981 - accuracy: 0.9698 - val_loss: 0.0506 - val_accuracy: 0.9849\n",
            "Epoch 3/20\n",
            "60000/60000 [==============================] - 2s 27us/step - loss: 0.0698 - accuracy: 0.9785 - val_loss: 0.0436 - val_accuracy: 0.9863\n",
            "Epoch 4/20\n",
            "60000/60000 [==============================] - 2s 27us/step - loss: 0.0553 - accuracy: 0.9830 - val_loss: 0.0328 - val_accuracy: 0.9889\n",
            "Epoch 5/20\n",
            "60000/60000 [==============================] - 2s 27us/step - loss: 0.0470 - accuracy: 0.9855 - val_loss: 0.0317 - val_accuracy: 0.9886\n",
            "Epoch 6/20\n",
            "60000/60000 [==============================] - 2s 27us/step - loss: 0.0411 - accuracy: 0.9879 - val_loss: 0.0291 - val_accuracy: 0.9900\n",
            "Epoch 7/20\n",
            "60000/60000 [==============================] - 2s 27us/step - loss: 0.0373 - accuracy: 0.9886 - val_loss: 0.0253 - val_accuracy: 0.9914\n",
            "Epoch 8/20\n",
            "60000/60000 [==============================] - 2s 27us/step - loss: 0.0347 - accuracy: 0.9893 - val_loss: 0.0267 - val_accuracy: 0.9903\n",
            "Epoch 9/20\n",
            "60000/60000 [==============================] - 2s 27us/step - loss: 0.0316 - accuracy: 0.9897 - val_loss: 0.0297 - val_accuracy: 0.9916\n",
            "Epoch 10/20\n",
            "60000/60000 [==============================] - 2s 27us/step - loss: 0.0277 - accuracy: 0.9913 - val_loss: 0.0234 - val_accuracy: 0.9923\n",
            "Epoch 11/20\n",
            "60000/60000 [==============================] - 2s 27us/step - loss: 0.0258 - accuracy: 0.9916 - val_loss: 0.0266 - val_accuracy: 0.9909\n",
            "Epoch 12/20\n",
            "60000/60000 [==============================] - 2s 27us/step - loss: 0.0254 - accuracy: 0.9915 - val_loss: 0.0286 - val_accuracy: 0.9908\n",
            "Epoch 13/20\n",
            "60000/60000 [==============================] - 2s 27us/step - loss: 0.0241 - accuracy: 0.9918 - val_loss: 0.0238 - val_accuracy: 0.9930\n",
            "Epoch 14/20\n",
            "60000/60000 [==============================] - 2s 27us/step - loss: 0.0227 - accuracy: 0.9926 - val_loss: 0.0231 - val_accuracy: 0.9927\n",
            "Epoch 15/20\n",
            "60000/60000 [==============================] - 2s 27us/step - loss: 0.0179 - accuracy: 0.9942 - val_loss: 0.0232 - val_accuracy: 0.9924\n",
            "Epoch 16/20\n",
            "60000/60000 [==============================] - 2s 27us/step - loss: 0.0196 - accuracy: 0.9935 - val_loss: 0.0239 - val_accuracy: 0.9931\n",
            "Epoch 17/20\n",
            "60000/60000 [==============================] - 2s 27us/step - loss: 0.0185 - accuracy: 0.9937 - val_loss: 0.0245 - val_accuracy: 0.9926\n",
            "Epoch 18/20\n",
            "60000/60000 [==============================] - 2s 27us/step - loss: 0.0156 - accuracy: 0.9946 - val_loss: 0.0234 - val_accuracy: 0.9926\n",
            "Epoch 19/20\n",
            "60000/60000 [==============================] - 2s 27us/step - loss: 0.0189 - accuracy: 0.9934 - val_loss: 0.0259 - val_accuracy: 0.9924\n",
            "Epoch 20/20\n",
            "60000/60000 [==============================] - 2s 27us/step - loss: 0.0143 - accuracy: 0.9954 - val_loss: 0.0247 - val_accuracy: 0.9927\n"
          ],
          "name": "stdout"
        },
        {
          "output_type": "execute_result",
          "data": {
            "text/plain": [
              "<keras.callbacks.callbacks.History at 0x7fdbe0087978>"
            ]
          },
          "metadata": {
            "tags": []
          },
          "execution_count": 8
        }
      ]
    },
    {
      "cell_type": "code",
      "metadata": {
        "id": "loLClov3878i",
        "colab_type": "code",
        "colab": {}
      },
      "source": [
        "scores = model.evaluate(X_test, y_test, verbose=0)"
      ],
      "execution_count": 9,
      "outputs": []
    },
    {
      "cell_type": "code",
      "metadata": {
        "id": "2ra8csd-9Cs4",
        "colab_type": "code",
        "colab": {
          "base_uri": "https://localhost:8080/",
          "height": 35
        },
        "outputId": "21fca710-2b32-4f84-8b08-e457076612ab"
      },
      "source": [
        "print(\"Large CNN Error: %.2f%%\" % (100-scores[1]*100))"
      ],
      "execution_count": 10,
      "outputs": [
        {
          "output_type": "stream",
          "text": [
            "Large CNN Error: 0.73%\n"
          ],
          "name": "stdout"
        }
      ]
    },
    {
      "cell_type": "code",
      "metadata": {
        "id": "LzRTBdj59Q9n",
        "colab_type": "code",
        "colab": {
          "base_uri": "https://localhost:8080/",
          "height": 35
        },
        "outputId": "274a68fa-f7d3-401b-c60e-39c820640d7a"
      },
      "source": [
        "print (\"Test accuracy: %.4f%%\"%scores[1])"
      ],
      "execution_count": 14,
      "outputs": [
        {
          "output_type": "stream",
          "text": [
            "Test accuracy: 0.9927%\n"
          ],
          "name": "stdout"
        }
      ]
    }
  ]
}