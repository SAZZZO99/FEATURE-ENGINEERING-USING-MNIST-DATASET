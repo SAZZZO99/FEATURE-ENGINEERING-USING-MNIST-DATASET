{
  "nbformat": 4,
  "nbformat_minor": 0,
  "metadata": {
    "colab": {
      "name": "MNIST - CNN.ipynb",
      "provenance": [],
      "authorship_tag": "ABX9TyN6yt0/Rv57cQbDgnHmpcg+"
    },
    "kernelspec": {
      "name": "python3",
      "display_name": "Python 3"
    },
    "accelerator": "GPU"
  },
  "cells": [
    {
      "cell_type": "code",
      "metadata": {
        "id": "B7NclSFi8Go6",
        "colab_type": "code",
        "colab": {
          "base_uri": "https://localhost:8080/",
          "height": 35
        },
        "outputId": "70045a4e-5ef5-48dd-9fc7-6d5ffc6a9302"
      },
      "source": [
        "from keras.datasets import mnist\n",
        "from keras.models import Sequential\n",
        "from keras.layers import Dense\n",
        "from keras.layers import Dropout\n",
        "from keras.layers import Flatten\n",
        "from keras.layers.convolutional import Conv2D\n",
        "from keras.layers.convolutional import MaxPooling2D\n",
        "from keras.utils import np_utils"
      ],
      "execution_count": 1,
      "outputs": [
        {
          "output_type": "stream",
          "text": [
            "Using TensorFlow backend.\n"
          ],
          "name": "stderr"
        }
      ]
    },
    {
      "cell_type": "code",
      "metadata": {
        "id": "846afTEx8Sar",
        "colab_type": "code",
        "colab": {
          "base_uri": "https://localhost:8080/",
          "height": 53
        },
        "outputId": "221a9bef-30fd-4c3b-b0f1-c4ed6dbcad15"
      },
      "source": [
        "(X_train, y_train), (X_test, y_test) = mnist.load_data()"
      ],
      "execution_count": 2,
      "outputs": [
        {
          "output_type": "stream",
          "text": [
            "Downloading data from https://s3.amazonaws.com/img-datasets/mnist.npz\n",
            "11493376/11490434 [==============================] - 1s 0us/step\n"
          ],
          "name": "stdout"
        }
      ]
    },
    {
      "cell_type": "code",
      "metadata": {
        "id": "QvPjbTlp8Xju",
        "colab_type": "code",
        "colab": {}
      },
      "source": [
        "X_train = X_train.reshape((X_train.shape[0], 28, 28, 1)).astype('float32')\n",
        "X_test = X_test.reshape((X_test.shape[0], 28, 28, 1)).astype('float32')"
      ],
      "execution_count": 3,
      "outputs": []
    },
    {
      "cell_type": "code",
      "metadata": {
        "id": "Qt4eUSbA8hSO",
        "colab_type": "code",
        "colab": {}
      },
      "source": [
        "X_train = X_train / 255\n",
        "X_test = X_test / 255"
      ],
      "execution_count": 4,
      "outputs": []
    },
    {
      "cell_type": "code",
      "metadata": {
        "id": "awiqugM98k9D",
        "colab_type": "code",
        "colab": {}
      },
      "source": [
        "y_train = np_utils.to_categorical(y_train)\n",
        "y_test = np_utils.to_categorical(y_test)\n",
        "num_classes = y_test.shape[1]"
      ],
      "execution_count": 5,
      "outputs": []
    },
    {
      "cell_type": "code",
      "metadata": {
        "id": "aI9sK07l8o7B",
        "colab_type": "code",
        "colab": {}
      },
      "source": [
        "def larger_model():\n",
        "\t# create model\n",
        "\tmodel = Sequential()\n",
        "\tmodel.add(Conv2D(30, (5, 5), input_shape=(28, 28, 1), activation='relu'))\n",
        "\tmodel.add(MaxPooling2D())\n",
        "\tmodel.add(Conv2D(15, (3, 3), activation='relu'))\n",
        "\tmodel.add(MaxPooling2D())\n",
        "\tmodel.add(Dropout(0.2))\n",
        "\tmodel.add(Flatten())\n",
        "\tmodel.add(Dense(128, activation='relu'))\n",
        "\tmodel.add(Dense(50, activation='relu'))\n",
        "\tmodel.add(Dense(num_classes, activation='softmax'))\n",
        "\t# Compile model\n",
        "\tmodel.compile(loss='categorical_crossentropy', optimizer='adam', metrics=['accuracy'])\n",
        "\treturn model"
      ],
      "execution_count": 6,
      "outputs": []
    },
    {
      "cell_type": "code",
      "metadata": {
        "id": "0DJBKklW8xAj",
        "colab_type": "code",
        "colab": {}
      },
      "source": [
        "model = larger_model()"
      ],
      "execution_count": 7,
      "outputs": []
    },
    {
      "cell_type": "code",
      "metadata": {
        "id": "Ta3yGuOm80dL",
        "colab_type": "code",
        "colab": {
          "base_uri": "https://localhost:8080/",
          "height": 773
        },
        "outputId": "19bc58f9-7e84-4d0c-dd47-6d46c4f69313"
      },
      "source": [
        "model.fit(X_train, y_train, validation_data=(X_test, y_test), epochs=20, batch_size=200)"
      ],
      "execution_count": 8,
      "outputs": [
        {
          "output_type": "stream",
          "text": [
            "Train on 60000 samples, validate on 10000 samples\n",
            "Epoch 1/20\n",
            "60000/60000 [==============================] - 9s 150us/step - loss: 0.3727 - accuracy: 0.8861 - val_loss: 0.0768 - val_accuracy: 0.9764\n",
            "Epoch 2/20\n",
            "60000/60000 [==============================] - 2s 33us/step - loss: 0.0948 - accuracy: 0.9707 - val_loss: 0.0518 - val_accuracy: 0.9837\n",
            "Epoch 3/20\n",
            "60000/60000 [==============================] - 2s 33us/step - loss: 0.0696 - accuracy: 0.9790 - val_loss: 0.0415 - val_accuracy: 0.9871\n",
            "Epoch 4/20\n",
            "60000/60000 [==============================] - 2s 32us/step - loss: 0.0565 - accuracy: 0.9829 - val_loss: 0.0328 - val_accuracy: 0.9895\n",
            "Epoch 5/20\n",
            "60000/60000 [==============================] - 2s 35us/step - loss: 0.0487 - accuracy: 0.9845 - val_loss: 0.0336 - val_accuracy: 0.9887\n",
            "Epoch 6/20\n",
            "60000/60000 [==============================] - 2s 33us/step - loss: 0.0433 - accuracy: 0.9864 - val_loss: 0.0313 - val_accuracy: 0.9895\n",
            "Epoch 7/20\n",
            "60000/60000 [==============================] - 2s 33us/step - loss: 0.0394 - accuracy: 0.9880 - val_loss: 0.0285 - val_accuracy: 0.9906\n",
            "Epoch 8/20\n",
            "60000/60000 [==============================] - 2s 32us/step - loss: 0.0357 - accuracy: 0.9884 - val_loss: 0.0243 - val_accuracy: 0.9919\n",
            "Epoch 9/20\n",
            "60000/60000 [==============================] - 2s 32us/step - loss: 0.0317 - accuracy: 0.9894 - val_loss: 0.0261 - val_accuracy: 0.9910\n",
            "Epoch 10/20\n",
            "60000/60000 [==============================] - 2s 34us/step - loss: 0.0307 - accuracy: 0.9895 - val_loss: 0.0260 - val_accuracy: 0.9919\n",
            "Epoch 11/20\n",
            "60000/60000 [==============================] - 2s 32us/step - loss: 0.0264 - accuracy: 0.9913 - val_loss: 0.0242 - val_accuracy: 0.9924\n",
            "Epoch 12/20\n",
            "60000/60000 [==============================] - 2s 31us/step - loss: 0.0254 - accuracy: 0.9919 - val_loss: 0.0217 - val_accuracy: 0.9929\n",
            "Epoch 13/20\n",
            "60000/60000 [==============================] - 2s 32us/step - loss: 0.0251 - accuracy: 0.9917 - val_loss: 0.0243 - val_accuracy: 0.9919\n",
            "Epoch 14/20\n",
            "60000/60000 [==============================] - 2s 32us/step - loss: 0.0226 - accuracy: 0.9927 - val_loss: 0.0245 - val_accuracy: 0.9928\n",
            "Epoch 15/20\n",
            "60000/60000 [==============================] - 2s 31us/step - loss: 0.0227 - accuracy: 0.9928 - val_loss: 0.0315 - val_accuracy: 0.9900\n",
            "Epoch 16/20\n",
            "60000/60000 [==============================] - 2s 32us/step - loss: 0.0209 - accuracy: 0.9933 - val_loss: 0.0245 - val_accuracy: 0.9928\n",
            "Epoch 17/20\n",
            "60000/60000 [==============================] - 2s 32us/step - loss: 0.0188 - accuracy: 0.9932 - val_loss: 0.0249 - val_accuracy: 0.9914\n",
            "Epoch 18/20\n",
            "60000/60000 [==============================] - 2s 32us/step - loss: 0.0177 - accuracy: 0.9942 - val_loss: 0.0234 - val_accuracy: 0.9930\n",
            "Epoch 19/20\n",
            "60000/60000 [==============================] - 2s 33us/step - loss: 0.0177 - accuracy: 0.9941 - val_loss: 0.0220 - val_accuracy: 0.9924\n",
            "Epoch 20/20\n",
            "60000/60000 [==============================] - 2s 32us/step - loss: 0.0165 - accuracy: 0.9945 - val_loss: 0.0225 - val_accuracy: 0.9929\n"
          ],
          "name": "stdout"
        },
        {
          "output_type": "execute_result",
          "data": {
            "text/plain": [
              "<keras.callbacks.callbacks.History at 0x7efe3018afd0>"
            ]
          },
          "metadata": {
            "tags": []
          },
          "execution_count": 8
        }
      ]
    },
    {
      "cell_type": "code",
      "metadata": {
        "id": "loLClov3878i",
        "colab_type": "code",
        "colab": {}
      },
      "source": [
        "scores = model.evaluate(X_test, y_test, verbose=0)"
      ],
      "execution_count": 9,
      "outputs": []
    },
    {
      "cell_type": "code",
      "metadata": {
        "id": "2ra8csd-9Cs4",
        "colab_type": "code",
        "colab": {
          "base_uri": "https://localhost:8080/",
          "height": 35
        },
        "outputId": "d7900bd6-3d56-4f36-8b2b-7d45fed847da"
      },
      "source": [
        "print(\"Large CNN Error: %.2f%%\" % (100-scores[1]*100))"
      ],
      "execution_count": 10,
      "outputs": [
        {
          "output_type": "stream",
          "text": [
            "Large CNN Error: 0.71%\n"
          ],
          "name": "stdout"
        }
      ]
    },
    {
      "cell_type": "code",
      "metadata": {
        "id": "LzRTBdj59Q9n",
        "colab_type": "code",
        "colab": {
          "base_uri": "https://localhost:8080/",
          "height": 35
        },
        "outputId": "4e86b40d-83e4-4780-84e3-c66d606d4419"
      },
      "source": [
        "print (\"Test accuracy: %.4f%%\"%scores[1])"
      ],
      "execution_count": 11,
      "outputs": [
        {
          "output_type": "stream",
          "text": [
            "Test accuracy: 0.9929%\n"
          ],
          "name": "stdout"
        }
      ]
    },
    {
      "cell_type": "code",
      "metadata": {
        "id": "5_UnjbpI1Yl-",
        "colab_type": "code",
        "colab": {
          "base_uri": "https://localhost:8080/",
          "height": 35
        },
        "outputId": "61528653-05f4-474e-fa89-1ee259cf98a5"
      },
      "source": [
        "scores_train=model.evaluate(X_train, y_train)"
      ],
      "execution_count": 12,
      "outputs": [
        {
          "output_type": "stream",
          "text": [
            "60000/60000 [==============================] - 4s 68us/step\n"
          ],
          "name": "stdout"
        }
      ]
    },
    {
      "cell_type": "code",
      "metadata": {
        "id": "O_yBJPGe1tr7",
        "colab_type": "code",
        "colab": {
          "base_uri": "https://localhost:8080/",
          "height": 35
        },
        "outputId": "f8956c5c-1059-42ae-90e3-d7d56491fa56"
      },
      "source": [
        "print (\"Train accuracy: %.4f%%\"%scores_train[1])"
      ],
      "execution_count": 13,
      "outputs": [
        {
          "output_type": "stream",
          "text": [
            "Train accuracy: 0.9978%\n"
          ],
          "name": "stdout"
        }
      ]
    }
  ]
}