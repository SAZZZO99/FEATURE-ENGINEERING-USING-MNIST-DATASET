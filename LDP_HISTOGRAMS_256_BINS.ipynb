{
  "nbformat": 4,
  "nbformat_minor": 0,
  "metadata": {
    "colab": {
      "name": "LDP-HISTOGRAMS 256 BINS.ipynb",
      "provenance": [],
      "authorship_tag": "ABX9TyMSg+VxJpGdDWZFQM9X0/e9"
    },
    "kernelspec": {
      "name": "python3",
      "display_name": "Python 3"
    }
  },
  "cells": [
    {
      "cell_type": "code",
      "metadata": {
        "id": "U-D5B-16Ez5X",
        "colab_type": "code",
        "colab": {}
      },
      "source": [
        "import numpy as np\n",
        "import matplotlib.pyplot as plt\n",
        "import scipy\n",
        "from scipy import ndimage"
      ],
      "execution_count": 1,
      "outputs": []
    },
    {
      "cell_type": "code",
      "metadata": {
        "id": "2bVTgU58E8Um",
        "colab_type": "code",
        "colab": {}
      },
      "source": [
        "from sklearn.datasets import fetch_openml\n",
        "mnist = fetch_openml('mnist_784')\n",
        "x = mnist.data\n",
        "y = mnist.target"
      ],
      "execution_count": 2,
      "outputs": []
    },
    {
      "cell_type": "code",
      "metadata": {
        "id": "Hn53ori_E8Xl",
        "colab_type": "code",
        "colab": {}
      },
      "source": [
        "e_k = np.zeros_like(x)\n",
        "s_k = np.zeros_like(x)\n",
        "n_k = np.zeros_like(x)\n",
        "nw_k = np.zeros_like(x)\n",
        "ne_k = np.zeros_like(x)\n",
        "sw_k = np.zeros_like(x)\n",
        "se_k = np.zeros_like(x)\n",
        "w_k = np.zeros_like(x)"
      ],
      "execution_count": 3,
      "outputs": []
    },
    {
      "cell_type": "code",
      "metadata": {
        "id": "VCNWNYSxE8dS",
        "colab_type": "code",
        "colab": {}
      },
      "source": [
        "ka= np.array([[-3,-3,-3],[-3,0,-3],[5,5,5]])\n",
        "na= np.array([[-3,-3,5],[-3,0,5],[-3,-3,5]])\n",
        "wa= np.array([[5,5,5],[-3,0,-3],[-3,-3,-3]])\n",
        "sa= np.array([[5,-3,-3],[5,0,-3],[5,-3,-3]])\n",
        "nea= np.array([[-3,-3,-3],[-3,0,5],[-3,5,5]])\n",
        "nwa= np.array([[-3,5,5],[-3,0,5],[-3,-3,-3]])\n",
        "sea= np.array([[-3,-3,-3],[5,0,-3],[5,5,-3]])\n",
        "swa= np.array([[5,5,-3],[5,0,-3],[-3,-3,-3]])"
      ],
      "execution_count": 4,
      "outputs": []
    },
    {
      "cell_type": "code",
      "metadata": {
        "id": "ZGo428MgE8gL",
        "colab_type": "code",
        "colab": {}
      },
      "source": [
        "for i in range(70000):\n",
        "  e_k[i]=ndimage.convolve(x[i].reshape((28, 28)),ka,mode='nearest',cval=0.0).reshape(784)\n",
        "  s_k[i]=ndimage.convolve(x[i].reshape((28, 28)),sa,mode='nearest',cval=0.0).reshape(784)\n",
        "  n_k[i]=ndimage.convolve(x[i].reshape((28, 28)),na,mode='nearest',cval=0.0).reshape(784)\n",
        "  w_k[i]=ndimage.convolve(x[i].reshape((28, 28)),wa,mode='nearest',cval=0.0).reshape(784)\n",
        "  nw_k[i]=ndimage.convolve(x[i].reshape((28, 28)),nwa,mode='nearest',cval=0.0).reshape(784)\n",
        "  ne_k[i]=ndimage.convolve(x[i].reshape((28, 28)),nea,mode='nearest',cval=0.0).reshape(784)\n",
        "  sw_k[i]=ndimage.convolve(x[i].reshape((28, 28)),swa,mode='nearest',cval=0.0).reshape(784)\n",
        "  se_k[i]=ndimage.convolve(x[i].reshape((28, 28)),sea,mode='nearest',cval=0.0).reshape(784)"
      ],
      "execution_count": 5,
      "outputs": []
    },
    {
      "cell_type": "code",
      "metadata": {
        "id": "FNoKsK_3E8lU",
        "colab_type": "code",
        "colab": {}
      },
      "source": [
        "ldp_mat=np.zeros_like(x)"
      ],
      "execution_count": 6,
      "outputs": []
    },
    {
      "cell_type": "code",
      "metadata": {
        "id": "oWnpGn3-E8oP",
        "colab_type": "code",
        "colab": {}
      },
      "source": [
        "ldp_hist=np.zeros((70000,256))"
      ],
      "execution_count": 7,
      "outputs": []
    },
    {
      "cell_type": "code",
      "metadata": {
        "id": "piiYOfQXE8ry",
        "colab_type": "code",
        "colab": {}
      },
      "source": [
        "for i in range(70000):\n",
        "  e=e_k[i].reshape((28,28))\n",
        "  s=s_k[i].reshape((28,28))\n",
        "  n=n_k[i].reshape((28,28))\n",
        "  w=w_k[i].reshape((28,28))\n",
        "  nw=nw_k[i].reshape((28,28))\n",
        "  ne=ne_k[i].reshape((28,28))\n",
        "  sw=sw_k[i].reshape((28,28))\n",
        "  se=se_k[i].reshape((28,28))\n",
        "  ldp=ldp_mat[i].reshape((28,28))\n",
        "\n",
        "  for k in range(28):\n",
        "    for j in range(28):\n",
        "      lst=[se[k][j],s[k][j],sw[k][j],w[k][j],nw[k][j],n[k][j],ne[k][j],e[k][j]]\n",
        "      l=[abs(h) for h in lst]\n",
        "      marr=np.argsort(l)\n",
        "      marr1=marr[::-1]\n",
        "      binary=np.zeros(8,dtype=\"uint8\")\n",
        "      binary[marr1[0]]=1\n",
        "      binary[marr1[1]]=1\n",
        "      binary[marr1[2]]=1\n",
        "      d_no=binary[0]*2**7+binary[1]*2**6+binary[2]*2**5+binary[3]*2**4+binary[4]*2**3+binary[5]*2**2+binary[6]*2**1+binary[7]*2**0\n",
        "      ldp[k][j]=d_no\n",
        "  \n",
        "  ldp_mat[i]=ldp.reshape(784)"
      ],
      "execution_count": 8,
      "outputs": []
    },
    {
      "cell_type": "code",
      "metadata": {
        "id": "vXRl89xQE8wT",
        "colab_type": "code",
        "colab": {}
      },
      "source": [
        "for i in range (70000):\n",
        "  hist=ldp_mat[i].reshape((28,28))\n",
        "  arr=np.zeros(256)\n",
        "  for c in range(1,257):\n",
        "    cnt=0\n",
        "    for k in range(28):\n",
        "      for j in range(28):\n",
        "        if hist[k][j]==c:\n",
        "          cnt+=1\n",
        "    arr[c-1]=cnt\n",
        "  ldp_hist[i]=arr"
      ],
      "execution_count": 9,
      "outputs": []
    },
    {
      "cell_type": "code",
      "metadata": {
        "id": "DV0Ps5ZEE8uV",
        "colab_type": "code",
        "colab": {}
      },
      "source": [
        "from sklearn.model_selection import train_test_split\n",
        "train_img, test_img, train_lbl, test_lbl = train_test_split( ldp_hist, mnist.target, test_size=1/7.0, random_state=0)"
      ],
      "execution_count": 10,
      "outputs": []
    },
    {
      "cell_type": "code",
      "metadata": {
        "id": "ndEMrorWE8jO",
        "colab_type": "code",
        "colab": {}
      },
      "source": [
        "from sklearn.preprocessing import StandardScaler\n",
        "scaler = StandardScaler()"
      ],
      "execution_count": 11,
      "outputs": []
    },
    {
      "cell_type": "code",
      "metadata": {
        "id": "TSksXXW3E8bd",
        "colab_type": "code",
        "colab": {
          "base_uri": "https://localhost:8080/",
          "height": 35
        },
        "outputId": "920b967b-7cc5-48bc-b7f7-229aee496d64"
      },
      "source": [
        "scaler.fit(train_img)"
      ],
      "execution_count": 12,
      "outputs": [
        {
          "output_type": "execute_result",
          "data": {
            "text/plain": [
              "StandardScaler(copy=True, with_mean=True, with_std=True)"
            ]
          },
          "metadata": {
            "tags": []
          },
          "execution_count": 12
        }
      ]
    },
    {
      "cell_type": "code",
      "metadata": {
        "id": "bgqmvJ6DXMGi",
        "colab_type": "code",
        "colab": {}
      },
      "source": [
        "train_img = scaler.transform(train_img)\n",
        "test_img = scaler.transform(test_img)"
      ],
      "execution_count": 13,
      "outputs": []
    },
    {
      "cell_type": "code",
      "metadata": {
        "id": "kGfVWGmPXMM-",
        "colab_type": "code",
        "colab": {}
      },
      "source": [
        "from sklearn.svm import SVC"
      ],
      "execution_count": 14,
      "outputs": []
    },
    {
      "cell_type": "code",
      "metadata": {
        "id": "c_KNHKt_XMS-",
        "colab_type": "code",
        "colab": {}
      },
      "source": [
        "svc_model=SVC()"
      ],
      "execution_count": 15,
      "outputs": []
    },
    {
      "cell_type": "code",
      "metadata": {
        "id": "wRiRheAgXMZT",
        "colab_type": "code",
        "colab": {}
      },
      "source": [
        "import time"
      ],
      "execution_count": 16,
      "outputs": []
    },
    {
      "cell_type": "code",
      "metadata": {
        "id": "EATJ7rMkXZfD",
        "colab_type": "code",
        "colab": {
          "base_uri": "https://localhost:8080/",
          "height": 35
        },
        "outputId": "b70f3510-ec25-493b-b25a-76146d58e04b"
      },
      "source": [
        "f=time.time()\n",
        "svc_model.fit(train_img, train_lbl)\n",
        "q=time.time()\n",
        "print(q-f)"
      ],
      "execution_count": 17,
      "outputs": [
        {
          "output_type": "stream",
          "text": [
            "817.8597376346588\n"
          ],
          "name": "stdout"
        }
      ]
    },
    {
      "cell_type": "code",
      "metadata": {
        "id": "rxNu9894XZj0",
        "colab_type": "code",
        "colab": {}
      },
      "source": [
        "y_predict=svc_model.predict(test_img)"
      ],
      "execution_count": 18,
      "outputs": []
    },
    {
      "cell_type": "code",
      "metadata": {
        "id": "2r9WVgH9XZoG",
        "colab_type": "code",
        "colab": {}
      },
      "source": [
        "from sklearn import metrics"
      ],
      "execution_count": 19,
      "outputs": []
    },
    {
      "cell_type": "code",
      "metadata": {
        "id": "J3IJ84SJXZsA",
        "colab_type": "code",
        "colab": {}
      },
      "source": [
        "d=svc_model.score(test_img,test_lbl)"
      ],
      "execution_count": 20,
      "outputs": []
    },
    {
      "cell_type": "code",
      "metadata": {
        "id": "h5WH5YTxXZv2",
        "colab_type": "code",
        "colab": {
          "base_uri": "https://localhost:8080/",
          "height": 35
        },
        "outputId": "6946e3bc-11c2-473d-a2d9-2b5b836f6b01"
      },
      "source": [
        "print(d*100)"
      ],
      "execution_count": 21,
      "outputs": [
        {
          "output_type": "stream",
          "text": [
            "74.92999999999999\n"
          ],
          "name": "stdout"
        }
      ]
    },
    {
      "cell_type": "code",
      "metadata": {
        "id": "Ezcu0vaAXZzc",
        "colab_type": "code",
        "colab": {}
      },
      "source": [
        "t=svc_model.score(train_img,train_lbl)"
      ],
      "execution_count": 22,
      "outputs": []
    },
    {
      "cell_type": "code",
      "metadata": {
        "id": "IA2OCq2_40Ye",
        "colab_type": "code",
        "colab": {
          "base_uri": "https://localhost:8080/",
          "height": 35
        },
        "outputId": "cc8c66be-0bbb-4e96-8b83-223565e7f7de"
      },
      "source": [
        "print(t*100)"
      ],
      "execution_count": 23,
      "outputs": [
        {
          "output_type": "stream",
          "text": [
            "82.99833333333333\n"
          ],
          "name": "stdout"
        }
      ]
    }
  ]
}